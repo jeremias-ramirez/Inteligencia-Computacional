{
 "cells": [
  {
   "cell_type": "markdown",
   "metadata": {},
   "source": [
    "## Ejercicio 1\n",
    "Escriba una función que devuelva el valor de membresı́a μA (x) para\n",
    "un conjunto A. Debe tomar como parámetros un vector que define el\n",
    "conjunto, el tipo de conjunto que se quiere utilizar, y el valor de x para\n",
    "el cual se quiere conocer su membresı́a.\n"
   ]
  },
  {
   "cell_type": "code",
   "execution_count": 1,
   "metadata": {},
   "outputs": [],
   "source": [
    "def membresia(x, vConj, tipo):\n",
    "    u = 0.0\n",
    "    if tipo == 1: #trapezoidal\n",
    "        if x < vConj[0]  or vConj[3] < x:\n",
    "            u = 0\n",
    "        elif vConj[0] <= x and x < vConj[1] :\n",
    "            u = (x - vConj[0]) / (vConj[1] - vConj[0])\n",
    "        elif vConj[1] <= x and x <= vConj[2] :\n",
    "            u = 1\n",
    "        elif vConj[2] < x and x <= vConj[3]:\n",
    "            u = 1 - (x - vConj[2]) / (vConj[3] - vConj[2])\n",
    "\n",
    "\n",
    "    elif tipo == 2: #gaussiano\n",
    "        u = np.exp(-0.5 * ((x - vConj[0]) / vConj[1]) ** 2) \n",
    "    return u"
   ]
  },
  {
   "cell_type": "markdown",
   "metadata": {},
   "source": [
    "## Ejercicio 2\n",
    "Escriba una función que, dada una matriz en este formato, el tipo\n",
    "de conjuntos usados y el rango de la variable x, permita graficar los\n",
    "conjuntos definidos en la misma. La Figura 2 presenta un ejemplo\n",
    "del tipo de gráfica a realizar."
   ]
  },
  {
   "cell_type": "code",
   "execution_count": 2,
   "metadata": {},
   "outputs": [],
   "source": [
    "def matrizMembresia(xV, M, tipo):\n",
    "    y = np.zeros((M.shape[0], xV.shape[0])) \n",
    "    y = np.array( list( map( lambda me: list(map(lambda xe: membresia(xe, me, tipo), xV)), M)) )"
   ]
  },
  {
   "cell_type": "code",
   "execution_count": 3,
   "metadata": {},
   "outputs": [
    {
     "data": {
      "text/plain": [
       "<matplotlib.figure.Figure at 0x7f33f8e4c668>"
      ]
     },
     "metadata": {},
     "output_type": "display_data"
    },
    {
     "data": {
      "text/plain": [
       "<matplotlib.figure.Figure at 0x7f33f8e4c630>"
      ]
     },
     "metadata": {},
     "output_type": "display_data"
    }
   ],
   "source": [
    "import numpy as np\n",
    "from matplotlib import pyplot as plt\n",
    "import membresia as mem\n",
    "\n",
    "x = np.arange(-4,4,0.1)\n",
    "\n",
    "m = np.array([[-20, -20, -10, -5], [-10, -5, -5, -2], [-5, -2, -2, 0], [-2, 0, 0, 2], [0, 2, 2, 5], [2, 5, 5, 10], [5, 10, 20, 20]])\n",
    "\n",
    "m2 = np.array([[-10, 1], [-5, 1], [0, 1], [5, 1], [10, 1]])\n",
    "x = np.arange(-20, 20)\n",
    "y = mem.matrizMembresia(x, m, 1)\n",
    "\n",
    "x2 = np.arange(-12, 12, 0.05)\n",
    "\n",
    "y = mem.matrizMembresia(x, m, 1)\n",
    "y2 = mem.matrizMembresia(x2, m2, 2)\n",
    "\n",
    "plt.figure(1)\n",
    "list(map(lambda ye : plt.plot(x, ye), y))\n",
    "plt.figure(2)\n",
    "list(map(lambda ye : plt.plot(x2, ye), y2))\n",
    "\n",
    "\n",
    "plt.show()"
   ]
  },
  {
   "cell_type": "markdown",
   "metadata": {},
   "source": [
    "## Ejercicio 3\n",
    "Escriba una función que tome como entrada la matriz con la definición\n",
    "de los p conjuntos, y un valor concreto de la variable de entrada, y\n",
    "devuelva un vector con los niveles de membresı́a de ese valor para\n",
    "los p conjuntos. Pruebe esta función con las matrices de conjuntos\n",
    "utilizadas en el Ejercicio 2.\n"
   ]
  },
  {
   "cell_type": "code",
   "execution_count": 4,
   "metadata": {},
   "outputs": [],
   "source": [
    "def matrizMembresia1E(x, M, tipo):\n",
    "    return matrizMembresia(np.array([x]), M, tipo)\n"
   ]
  },
  {
   "cell_type": "code",
   "execution_count": 5,
   "metadata": {},
   "outputs": [
    {
     "name": "stdout",
     "output_type": "stream",
     "text": [
      "[[ 0.  ]\n",
      " [ 0.  ]\n",
      " [ 0.  ]\n",
      " [ 0.75]\n",
      " [ 0.25]\n",
      " [ 0.  ]\n",
      " [ 0.  ]]\n"
     ]
    }
   ],
   "source": [
    "m = np.array([[-20, -20, -10, -5], [-10, -5, -5, -2], [-5, -2, -2, 0], [-2, 0, 0, 2], [0, 2, 2, 5], [2, 5, 5, 10], [5, 10, 20, 20]])\n",
    "x = 0.5\n",
    "y = mem.matrizMembresia1E(x, m, 1)\n",
    "print(y)"
   ]
  },
  {
   "attachments": {
    "imagen.png": {
     "image/png": "[encoded data removed]"
    }
   },
   "cell_type": "markdown",
   "metadata": {},
   "source": [
    "# Ejercicio 4\n",
    "Implemente una función que tome como entradas los conjuntos de\n",
    "salida, su tipo y el grado de activación para cada uno, y devuelva el\n",
    "valor de salida correspondiente. Las fórmulas para el centroide y las\n",
    "áreas de los conjuntos trapezoidales son relativamente simples. Para\n",
    "funciones gaussianas, suponga que el centroide coincide con la media, y\n",
    "el área es igual a σ(2π)1/2. Para probarlo, utilice los conjuntos de salida\n",
    "definidos en la matriz S de tipo triangular, y un vector de activación\n",
    "a = [0; 0,7; 0,3; 0; 0; 0; 0].\n",
    "![imagen.png](attachment:imagen.png)\n",
    "Pruebe también con conjuntos de salida gaussianos definidos por usted\n",
    "sobre el mismo rango.\n",
    "\n"
   ]
  },
  {
   "cell_type": "markdown",
   "metadata": {},
   "source": [
    "### Fuciones para calcular el area"
   ]
  },
  {
   "cell_type": "code",
   "execution_count": 6,
   "metadata": {},
   "outputs": [],
   "source": [
    "def areaCentr_Trapezoide(h, vConj):\n",
    "    if h == 0:\n",
    "       return (0,0) \n",
    "    area = np.zeros((3,1))\n",
    "    centr = np.zeros((3,1))\n",
    "\n",
    "    if vConj[0] != vConj[1]:\n",
    "        area[0] = abs(vConj[1] - vConj[0]) * h / 2\n",
    "        centr[0] = vConj[0] + 2/3 * abs(vConj[1] - vConj[0])\n",
    "    if vConj[1] != vConj[2]:\n",
    "        area[1] = abs(vConj[2] - vConj[1]) * h \n",
    "        centr[1] = vConj[1] + 1/2 * abs(vConj[2] - vConj[1])\n",
    "    if vConj[2] != vConj[3]:\n",
    "        area[2]  = (vConj[3] - vConj[2]) * h / 2\n",
    "        centr[2] = vConj[2] + 1/3 * abs(vConj[3] - vConj[2])\n",
    "    \n",
    "    return area.sum(), ((centr.T @ area)[0][0] / area.sum())\n",
    "\n",
    "def areaCentr_Gauss(h, vConj):\n",
    "    if h == 0.0:\n",
    "       return (0,0)\n",
    "    area = h * vConj[1] * np.sqrt(2 * np.pi)    \n",
    "    return area, vConj[0] "
   ]
  },
  {
   "cell_type": "markdown",
   "metadata": {},
   "source": [
    "### Defuzzificacion"
   ]
  },
  {
   "cell_type": "code",
   "execution_count": 7,
   "metadata": {},
   "outputs": [],
   "source": [
    "def defuzzificacion(gA, M, tipo):\n",
    "    area = np.zeros((M.shape[0], 1))\n",
    "    areaCentr = np.zeros((M.shape[0], 1))\n",
    "    if tipo == 1:\n",
    "        areaCentr = np.array([areaCentr_Trapezoide(gA[i], conj) for i, conj in enumerate(M)])\n",
    "    else:\n",
    "        areaCentr = np.array([areaCentr_Gauss(gA[i], conj) for i, conj in enumerate(M)])\n",
    "    return (areaCentr[:,1].T @ areaCentr[:,0]) / areaCentr[:,0].sum()"
   ]
  },
  {
   "cell_type": "code",
   "execution_count": 8,
   "metadata": {},
   "outputs": [
    {
     "name": "stdout",
     "output_type": "stream",
     "text": [
      "-2.59459459459\n",
      "-3.5\n"
     ]
    }
   ],
   "source": [
    "\n",
    "s1 = np.array([[-7,-5, -5, -3], [-5, -3, -3, -1], [-3, -1, -1, 0], [-1, 0, 0, 1], [0, 1, 1, 3], [1, 3 , 3, 5], [3, 5, 5, 7]])\n",
    "a = np.array([0, 0.7, 0.3, 0, 0, 0, 0])\n",
    "\n",
    "y1 = mem.defuzzificacion(a, s1, 1)\n",
    "print(y1)\n",
    "\n",
    "s2 = np.array([[-10, 1], [-5, 1], [0, 1], [5, 1], [10, 1]])\n",
    "y2 = mem.defuzzificacion(a,s2, 2)\n",
    "\n",
    "print(y2)\n"
   ]
  },
  {
   "cell_type": "markdown",
   "metadata": {},
   "source": [
    "## Ejercicio 5\n",
    "Reglas del sistema completo. En los sistemas borrosos, los\n",
    "conjuntos de entrada $A_{i}$ son mapeados en los conjuntos de salida Bj a\n",
    "partir de reglas tipo if-then, de la forma if la entrada x es $A_{i}$ then\n",
    "la salida y es $B_{j}$ . Para una entrada y una salida, este tipo de reglas\n",
    "puede codificarse como un vector de ı́ndices r, donde la componente i-\n",
    "esima del vector corresponde al conjunto de entrada i, y el valor ri es el\n",
    "ı́ndice del conjunto de salida que corresponde a esa regla. Por ejemplo,\n",
    "en un sistema con 3 conjuntos de la variable de entrada y tres de la\n",
    "variable de salida, el vector r = [3; 2; 1] indica que el conjunto $A_{1}$ de\n",
    "entrada es mapeado al conjunto $B_{3}$ de salida, el $A_{2}$ de entrada al $B_{2}$\n",
    "de salida, y el $A_{3}$ de entrada al $B_{1}$ de salida. \n",
    "Escriba una función que, dadas las matrices que definen los conjuntos de entrada y salida (y sus\n",
    "tipos) para un sistema de una entrada con una salida, y el vector de\n",
    "mapeo entre conjuntos de entrada y conjuntos de salida, devuelva el\n",
    "valor de salida y del sistema para una entrada dada x. Para probarlo,\n",
    "considere un sistema borroso cuyos conjuntos de entrada y salida estén\n",
    "definidos por las matrices M y S, usadas en los ejercicios anteriores.\n",
    "Además, suponga que las reglas están codificadas en el vector r =\n",
    "[1; 2; 3; 4; 5; 6; 7].\n"
   ]
  },
  {
   "cell_type": "code",
   "execution_count": null,
   "metadata": {},
   "outputs": [],
   "source": [
    "def sistemaBorroso(x, r, M, S, tipo):\n",
    "    gA = matrizMembresia1E(x, M, tipo)\n",
    "    gAN = np.zeros((r.shape[0], 1))\n",
    "    gAN[r-1] = gA\n",
    "    return defuzzificacion(gA, S, tipo)"
   ]
  },
  {
   "cell_type": "code",
   "execution_count": 9,
   "metadata": {},
   "outputs": [
    {
     "name": "stdout",
     "output_type": "stream",
     "text": [
      "-2.77555756156e-17\n",
      "-2.77555756156e-17\n"
     ]
    }
   ],
   "source": [
    "M = np.array([[-20, -20, -10, -5], [-10, -5, -5, -2], [-5, -2, -2, 0], [-2, 0, 0, 2], [0, 2, 2, 5], [2, 5, 5, 10], [5, 10, 20, 20]])\n",
    "S = np.array([[-7,-5, -5, -3], [-5, -3, -3, -1], [-3, -1, -1, 0], [-1, 0, 0, 1], [0, 1, 1, 3], [1, 3 , 3, 5], [3, 5, 5, 7]])\n",
    "\n",
    "r = np.array([1, 2, 3, 4, 5 ,6 , 7])\n",
    "x = 0.0\n",
    "y = mem.sistemaBorroso(x, r, M, S, 1) \n",
    "print(y)\n",
    "r = np.array([4, 2, 3, 1, 5 ,6 , 7])\n",
    "y = mem.sistemaBorroso(x, r, M, S, 1) \n",
    "print(y)\n"
   ]
  },
  {
   "cell_type": "markdown",
   "metadata": {},
   "source": [
    "Falta intepretar la salida en algunos ejer"
   ]
  },
  {
   "cell_type": "code",
   "execution_count": null,
   "metadata": {},
   "outputs": [],
   "source": []
  }
 ],
 "metadata": {
  "kernelspec": {
   "display_name": "Python 3",
   "language": "python",
   "name": "python3"
  },
  "language_info": {
   "codemirror_mode": {
    "name": "ipython",
    "version": 3
   },
   "file_extension": ".py",
   "mimetype": "text/x-python",
   "name": "python",
   "nbconvert_exporter": "python",
   "pygments_lexer": "ipython3",
   "version": "3.6.2"
  }
 },
 "nbformat": 4,
 "nbformat_minor": 2
}
